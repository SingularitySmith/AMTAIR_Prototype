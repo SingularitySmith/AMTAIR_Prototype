{
  "nbformat": 4,
  "nbformat_minor": 0,
  "metadata": {
    "colab": {
      "provenance": [],
      "toc_visible": true,
      "authorship_tag": "ABX9TyO7CS7pHiz8dELpUmKAJgH9",
      "include_colab_link": true
    },
    "kernelspec": {
      "name": "python3",
      "display_name": "Python 3"
    },
    "language_info": {
      "name": "python"
    }
  },
  "cells": [
    {
      "cell_type": "markdown",
      "metadata": {
        "id": "view-in-github",
        "colab_type": "text"
      },
      "source": [
        "<a href=\"https://colab.research.google.com/github/SingularitySmith/AMTAIR_Prototype/blob/main/AMTAIR_Prototype_0_1.ipynb\" target=\"_parent\"><img src=\"https://colab.research.google.com/assets/colab-badge.svg\" alt=\"Open In Colab\"/></a>"
      ]
    },
    {
      "cell_type": "markdown",
      "source": [
        "# Import Libraries & Packages\n"
      ],
      "metadata": {
        "id": "GtVFO-s74vI_"
      }
    },
    {
      "cell_type": "code",
      "execution_count": null,
      "metadata": {
        "id": "dkp2mSZg3qCu"
      },
      "outputs": [],
      "source": []
    },
    {
      "cell_type": "markdown",
      "source": [
        "# Connect Storage (& Define Repository)\n"
      ],
      "metadata": {
        "id": "RbgR04uk4vxG"
      }
    },
    {
      "cell_type": "markdown",
      "source": [
        "# Sources (PDF's of Papers) to ArgDown (.md file)"
      ],
      "metadata": {
        "id": "52XyPlte5HrU"
      }
    },
    {
      "cell_type": "markdown",
      "source": [
        "# Probability Extractions: ArgDown (.md) to BayesDown (.md + plugin JSON syntax)"
      ],
      "metadata": {
        "id": "7SGB0XMp5VFq"
      }
    },
    {
      "cell_type": "markdown",
      "source": [
        "# Data Extraction: BayesDown (.md) to Database (.csv)\n"
      ],
      "metadata": {
        "id": "SJ9OIyEv5qqb"
      }
    },
    {
      "cell_type": "markdown",
      "source": [
        "# Analysis & Inference: Practical Software Tools ()"
      ],
      "metadata": {
        "id": "KGoZ9gH55271"
      }
    },
    {
      "cell_type": "markdown",
      "source": [
        "## Network Visualizer: Data (.csv) to DAGs of Dynamic Bayes Nets (.html)"
      ],
      "metadata": {
        "id": "mbRSd0SK5_sA"
      }
    }
  ]
}